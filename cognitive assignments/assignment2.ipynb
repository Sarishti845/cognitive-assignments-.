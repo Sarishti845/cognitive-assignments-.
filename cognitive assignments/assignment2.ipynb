{
 "cells": [
  {
   "cell_type": "markdown",
   "id": "4e20dcfa-e7ae-4f41-a811-8f488e7c7e88",
   "metadata": {},
   "source": [
    "# ASSIGNMENT 2,NAME-SARISHTI, ROLL NUMBER-102317212"
   ]
  },
  {
   "cell_type": "code",
   "execution_count": 1,
   "id": "07f00bf0-1b7a-4850-b0d2-ac5394e6e28c",
   "metadata": {},
   "outputs": [
    {
     "name": "stdout",
     "output_type": "stream",
     "text": [
      "[10, 20, 30, 40, 50, 60, 70, 80, 200, 300]\n",
      "[20, 40, 50, 60, 70, 80, 200, 300]\n",
      "[20, 40, 50, 60, 70, 80, 200, 300]\n",
      "[300, 200, 80, 70, 60, 50, 40, 20]\n"
     ]
    }
   ],
   "source": [
    "#QUES 1\n",
    "L = [10, 20, 30, 40, 50, 60, 70, 80]\n",
    "\n",
    "# i. Add 200 and 300 to L\n",
    "L.append(200)\n",
    "L.append(300)\n",
    "print(L)\n",
    "# ii. Remove 10 and 30 from L\n",
    "L.remove(10)\n",
    "L.remove(30)\n",
    "print(L)\n",
    "# iii. Sort L in ascending order\n",
    "L.sort()\n",
    "print(L)\n",
    "# iv. Sort L in descending order\n",
    "L.sort(reverse=True)\n",
    "print(L)\n",
    "\n"
   ]
  },
  {
   "cell_type": "code",
   "execution_count": 2,
   "id": "23f4ff5b-e7cb-45af-8ba9-fcf26fb3aa16",
   "metadata": {},
   "outputs": [
    {
     "name": "stdout",
     "output_type": "stream",
     "text": [
      "Max Score: 92 at index 5\n",
      "Min Score: 45 occurs 2 times\n",
      "Reversed List: [45, 58, 92, 89, 45.4, 76, 89.5, 45]\n",
      "76 found at index 2\n"
     ]
    }
   ],
   "source": [
    "#QUES 2\n",
    "scores = (45, 89.5, 76, 45.4, 89, 92, 58, 45)\n",
    "\n",
    "# i. Identify the highest score and its index\n",
    "max_score = max(scores)\n",
    "max_index = scores.index(max_score)\n",
    "print(\"Max Score:\", max_score, \"at index\", max_index)\n",
    "\n",
    "# ii. Find the lowest score and count occurrences\n",
    "min_score = min(scores)\n",
    "count_min = scores.count(min_score)\n",
    "print(\"Min Score:\", min_score, \"occurs\", count_min, \"times\")\n",
    "\n",
    "# iii. Reverse the tuple and return it as a list\n",
    "reversed_list = list(scores[::-1])\n",
    "print(\"Reversed List:\", reversed_list)\n",
    "\n",
    "# iv. Check if 76 exists in the tuple\n",
    "scores = (45, 89.5, 76, 45.4, 89, 92, 58, 45)\n",
    "search_value = 76\n",
    "\n",
    "if search_value in scores:\n",
    "    print(str(search_value) + \" found at index \" + str(scores.index(search_value)))\n",
    "else:\n",
    "    print(str(search_value) + \" is not present in the tuple\")"
   ]
  },
  {
   "cell_type": "code",
   "execution_count": 3,
   "id": "304dd155-4d69-40eb-8c2d-bb550140c368",
   "metadata": {},
   "outputs": [
    {
     "name": "stdout",
     "output_type": "stream",
     "text": [
      "Generated Numbers: [551, 350, 689, 378, 120, 512, 826, 133, 239, 469, 297, 722, 519, 629, 328, 705, 793, 288, 776, 523, 824, 477, 507, 452, 206, 577, 632, 701, 343, 400, 595, 810, 646, 601, 347, 500, 399, 292, 477, 642, 153, 481, 553, 530, 518, 701, 680, 797, 405, 677, 686, 206, 220, 230, 524, 124, 479, 135, 448, 236, 224, 370, 758, 445, 232, 495, 873, 450, 145, 768, 454, 721, 297, 454, 199, 898, 135, 455, 795, 263, 752, 233, 393, 216, 667, 144, 752, 231, 191, 250, 844, 252, 152, 503, 411, 683, 106, 789, 613, 436]\n",
      "\n",
      "Total Odd Numbers: 51 \n",
      "Odd Numbers: [551, 689, 133, 239, 469, 297, 519, 629, 705, 793, 523, 477, 507, 577, 701, 343, 595, 601, 347, 399, 477, 153, 481, 553, 701, 797, 405, 677, 479, 135, 445, 495, 873, 145, 721, 297, 199, 135, 455, 795, 263, 233, 393, 667, 231, 191, 503, 411, 683, 789, 613]\n",
      "\n",
      "Total Even Numbers: 49 \n",
      "Even Numbers: [350, 378, 120, 512, 826, 722, 328, 288, 776, 824, 452, 206, 632, 400, 810, 646, 500, 292, 642, 530, 518, 680, 686, 206, 220, 230, 524, 124, 448, 236, 224, 370, 758, 232, 450, 768, 454, 454, 898, 752, 216, 144, 752, 250, 844, 252, 152, 106, 436]\n",
      "\n",
      "Total Prime Numbers: 17 \n",
      "Prime Numbers: [239, 523, 577, 701, 601, 347, 701, 797, 677, 479, 199, 263, 233, 191, 503, 683, 613]\n"
     ]
    }
   ],
   "source": [
    "#QUES 3\n",
    "import random\n",
    "random_numbers = [random.randint(100, 900) for _ in range(100)]\n",
    "\n",
    "def is_prime(n):\n",
    "    if n < 2:\n",
    "        return False\n",
    "    for i in range(2, int(n ** 0.5) + 1):  # Checking up to sqrt(n)\n",
    "        if n % i == 0:\n",
    "            return False\n",
    "    return True\n",
    "    \n",
    "odd_numbers = [num for num in random_numbers if num % 2 != 0]\n",
    "even_numbers = [num for num in random_numbers if num % 2 == 0]\n",
    "prime_numbers = [num for num in random_numbers if is_prime(num)]\n",
    "\n",
    "print(\"Generated Numbers:\", random_numbers)\n",
    "print(\"\\nTotal Odd Numbers:\", len(odd_numbers), \"\\nOdd Numbers:\", odd_numbers)\n",
    "print(\"\\nTotal Even Numbers:\", len(even_numbers), \"\\nEven Numbers:\", even_numbers)\n",
    "print(\"\\nTotal Prime Numbers:\", len(prime_numbers), \"\\nPrime Numbers:\", prime_numbers)\n",
    "\n"
   ]
  },
  {
   "cell_type": "code",
   "execution_count": 5,
   "id": "fe0bce38-c0f6-48b3-ba53-138df1b4edba",
   "metadata": {},
   "outputs": [
    {
     "name": "stdout",
     "output_type": "stream",
     "text": [
      "Union: {34, 45, 78, 23, 56, 90}\n",
      "Intersection: {90, 78}\n",
      "Symmetric Difference: {34, 45, 23, 56}\n",
      "A is subset of B: False\n",
      "B is superset of A: False\n"
     ]
    },
    {
     "name": "stdin",
     "output_type": "stream",
     "text": [
      "Enter score to remove from A:  45\n"
     ]
    },
    {
     "name": "stdout",
     "output_type": "stream",
     "text": [
      "45 is not present in A\n"
     ]
    }
   ],
   "source": [
    "#QUES 4\n",
    "A = {34, 56, 78, 90}\n",
    "B = {78, 45, 90, 23}\n",
    "\n",
    "union_set = A | B\n",
    "print(\"Union:\", union_set)\n",
    "intersection_set = A & B\n",
    "print(\"Intersection:\", intersection_set)\n",
    "symmetric_difference_set = A ^ B\n",
    "print(\"Symmetric Difference:\", symmetric_difference_set)\n",
    "\n",
    "is_A_subset_B = A.issubset(B)\n",
    "print(\"A is subset of B: \" + str(is_A_subset_B))\n",
    "is_B_superset_A = B.issuperset(A)\n",
    "print(\"B is superset of A: \" + str(is_B_superset_A))\n",
    "\n",
    "input_score = int(input(\"Enter score to remove from A: \"))\n",
    "\n",
    "if input_score in A:\n",
    "    A.remove(input_score)\n",
    "    print(str(input_score) + \" removed from A\")\n",
    "else:\n",
    "    print(str(input_score) + \" is not present in A\")\n",
    "\n",
    "\n"
   ]
  },
  {
   "cell_type": "code",
   "execution_count": 6,
   "id": "c3afc3c5-03fe-4e1f-9a34-1eea91b1c7c0",
   "metadata": {},
   "outputs": [
    {
     "name": "stdout",
     "output_type": "stream",
     "text": [
      "{'name': 'Kelly', 'age': 25, 'salary': 8000, 'location': 'New york'}\n"
     ]
    }
   ],
   "source": [
    "#QUES 5\n",
    "sample_dict = {\n",
    "    \"name\": \"Kelly\",\n",
    "    \"age\": 25,\n",
    "    \"salary\": 8000,\n",
    "    \"city\": \"New york\"\n",
    "}\n",
    "\n",
    "sample_dict['location'] = sample_dict.pop('city')\n",
    "\n",
    "print(sample_dict)"
   ]
  },
  {
   "cell_type": "code",
   "execution_count": null,
   "id": "f158a24c-006e-4e88-a30f-c8ce03aba96e",
   "metadata": {},
   "outputs": [],
   "source": []
  }
 ],
 "metadata": {
  "kernelspec": {
   "display_name": "Python 3 (ipykernel)",
   "language": "python",
   "name": "python3"
  },
  "language_info": {
   "codemirror_mode": {
    "name": "ipython",
    "version": 3
   },
   "file_extension": ".py",
   "mimetype": "text/x-python",
   "name": "python",
   "nbconvert_exporter": "python",
   "pygments_lexer": "ipython3",
   "version": "3.12.7"
  }
 },
 "nbformat": 4,
 "nbformat_minor": 5
}
