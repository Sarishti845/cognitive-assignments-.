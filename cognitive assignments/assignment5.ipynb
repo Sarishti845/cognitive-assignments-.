{
 "cells": [
  {
   "cell_type": "markdown",
   "id": "aaa037d1-e5a3-45b2-9194-98353f56e7fb",
   "metadata": {},
   "source": [
    "# ASSIGNMENT 5,NAME-SARISHTI, ROLL NUMBER-102317212"
   ]
  },
  {
   "cell_type": "code",
   "execution_count": 1,
   "id": "4a119c02-f7ab-4aaa-8a4e-64e6787bfd4b",
   "metadata": {},
   "outputs": [
    {
     "name": "stdout",
     "output_type": "stream",
     "text": [
      "Total Sum: 45\n",
      "Row-wise Sum:\n",
      " [[14]\n",
      " [16]\n",
      " [15]]\n",
      "Column-wise Sum:\n",
      " [[10 19 16]]\n"
     ]
    }
   ],
   "source": [
    "#ques1 \n",
    "import numpy as np\n",
    "\n",
    "gfg = np.matrix([[4, 1, 9], [2, 13, 1], [4, 5, 6]])\n",
    "\n",
    "total_sum = gfg.sum()\n",
    "row_sum = gfg.sum(axis=1)\n",
    "col_sum = gfg.sum(axis=0)\n",
    "\n",
    "print(\"Total Sum:\", total_sum)\n",
    "print(\"Row-wise Sum:\\n\", row_sum)\n",
    "print(\"Column-wise Sum:\\n\", col_sum)\n"
   ]
  },
  {
   "cell_type": "code",
   "execution_count": 2,
   "id": "5c7880d1-976c-4575-82f0-5285560ac5d3",
   "metadata": {},
   "outputs": [
    {
     "name": "stdout",
     "output_type": "stream",
     "text": [
      "Sorted Array: [ 10  16  16  52  54  62 453]\n",
      "Indices of Sorted Array: [0 3 4 1 5 2 6]\n",
      "4 Smallest Elements: [10 16 16 52]\n",
      "5 Largest Elements: [ 16  52  54  62 453]\n"
     ]
    }
   ],
   "source": [
    "#ques 2 (a)\n",
    "array = np.array([10, 52, 62, 16, 16, 54, 453])\n",
    "sorted_arr = np.sort(array)\n",
    "sorted_indices = np.argsort(array)\n",
    "smallest_4 = np.sort(array)[:4]\n",
    "largest_5 = np.sort(array)[-5:]\n",
    "\n",
    "print(\"Sorted Array:\", sorted_arr)\n",
    "print(\"Indices of Sorted Array:\", sorted_indices)\n",
    "print(\"4 Smallest Elements:\", smallest_4)\n",
    "print(\"5 Largest Elements:\", largest_5)"
   ]
  },
  {
   "cell_type": "code",
   "execution_count": 3,
   "id": "6dfa0007-0830-475f-9d09-e9ee64d1dd77",
   "metadata": {},
   "outputs": [
    {
     "name": "stdout",
     "output_type": "stream",
     "text": [
      "Integer Elements: [1. 2. 3. 2.]\n",
      "Float Elements: [1.2 2.2]\n"
     ]
    }
   ],
   "source": [
    "#ques 2 (b)\n",
    "array = np.array([1.0, 1.2, 2.2, 2.0, 3.0, 2.0])\n",
    "int_elements = array[array == array.astype(int)]\n",
    "float_elements = array[array != array.astype(int)]\n",
    "\n",
    "print(\"Integer Elements:\", int_elements)\n",
    "print(\"Float Elements:\", float_elements)\n"
   ]
  },
  {
   "cell_type": "code",
   "execution_count": 4,
   "id": "4fa449ed-93eb-4079-8ad0-74071f45d219",
   "metadata": {},
   "outputs": [
    {
     "name": "stdout",
     "output_type": "stream",
     "text": [
      "Original Sales: [131 181 231 281 331]\n",
      "Tax Applied: [ 7.86 10.86 13.86 16.86 19.86]\n",
      "Discounted Sales: [124.45 171.95 219.45 252.9  297.9 ]\n",
      "Expanded Weekly Sales Matrix:\n",
      " [[131 181 231 281 331]\n",
      " [131 181 231 281 331]\n",
      " [131 181 231 281 331]]\n",
      "Sales Increased by 2%:\n",
      " [[133.62 184.62 235.62 286.62 337.62]\n",
      " [133.62 184.62 235.62 286.62 337.62]\n",
      " [133.62 184.62 235.62 286.62 337.62]]\n"
     ]
    }
   ],
   "source": [
    "#ques 3\n",
    "import numpy as np\n",
    "first_initial = 'A'\n",
    "last_initial = 'B'\n",
    "X = ord(first_initial) + ord(last_initial) \n",
    "sales = np.array([X, X+50, X+100, X+150, X+200])  \n",
    "\n",
    "tax_rate = (X % 5 + 5) / 100\n",
    "tax = sales * tax_rate\n",
    "\n",
    "discounted_sales = np.where(sales <= X+100, sales * 0.95, sales * 0.90)\n",
    "sales_matrix = np.tile(sales, (3, 1)) \n",
    "increased_sales = sales_matrix + (sales_matrix * 0.02) \n",
    "\n",
    "print(\"Original Sales:\", sales)\n",
    "print(\"Tax Applied:\", tax)\n",
    "print(\"Discounted Sales:\", discounted_sales)\n",
    "print(\"Expanded Weekly Sales Matrix:\\n\", sales_matrix)\n",
    "print(\"Sales Increased by 2%:\\n\", increased_sales)"
   ]
  },
  {
   "cell_type": "code",
   "execution_count": null,
   "id": "acf3d08c-bf56-49d3-b7ef-d96d7cab511a",
   "metadata": {},
   "outputs": [],
   "source": [
    "#ques 4\n",
    "\n",
    "import numpy as np\n",
    "import matplotlib.pyplot as plt\n",
    "\n",
    "x = np.linspace(-10, 10, 100)\n",
    "\n",
    "y_square = x**2\n",
    "y_sin = np.sin(x)\n",
    "y_exp = np.exp(x)\n",
    "y_log = np.log(np.abs(x) + 1)\n",
    "\n",
    "plt.figure(figsize=(12, 8))\n",
    "\n",
    "plt.subplot(2, 2, 1)\n",
    "plt.plot(x, y_square)\n",
    "plt.title(\"y = x²\")\n",
    "plt.xlabel(\"x\")\n",
    "plt.ylabel(\"y\")\n",
    "plt.grid(True)\n",
    "\n",
    "plt.subplot(2, 2, 2)\n",
    "plt.plot(x, y_sin)\n",
    "plt.title(\"y = sin(x)\")\n",
    "plt.xlabel(\"x\")\n",
    "plt.ylabel(\"y\")\n",
    "plt.grid(True)\n",
    "\n",
    "plt.subplot(2, 2, 3)\n",
    "plt.plot(x, y_exp)\n",
    "plt.title(\"y = eˣ\")\n",
    "plt.xlabel(\"x\")\n",
    "plt.ylabel(\"y\")\n",
    "plt.grid(True)\n",
    "\n",
    "plt.subplot(2, 2, 4)\n",
    "plt.plot(x, y_log)\n",
    "plt.title(\"y = log(|x| + 1)\")\n",
    "plt.xlabel(\"x\")\n",
    "plt.ylabel(\"y\")\n",
    "plt.grid(True)\n",
    "\n",
    "plt.tight_layout()\n",
    "plt.show()\n",
    "\n"
   ]
  }
 ],
 "metadata": {
  "kernelspec": {
   "display_name": "Python 3 (ipykernel)",
   "language": "python",
   "name": "python3"
  },
  "language_info": {
   "codemirror_mode": {
    "name": "ipython",
    "version": 3
   },
   "file_extension": ".py",
   "mimetype": "text/x-python",
   "name": "python",
   "nbconvert_exporter": "python",
   "pygments_lexer": "ipython3",
   "version": "3.12.7"
  }
 },
 "nbformat": 4,
 "nbformat_minor": 5
}
