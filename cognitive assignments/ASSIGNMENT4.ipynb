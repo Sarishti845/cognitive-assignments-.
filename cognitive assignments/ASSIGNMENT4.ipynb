{
 "cells": [
  {
   "cell_type": "markdown",
   "id": "fb5eb581-a674-4a44-a1d6-b4db672bc1fe",
   "metadata": {},
   "source": [
    "# ASSIGNMENT 4, NAME-SARISHTI, ROLL NUMBER-102317212"
   ]
  },
  {
   "cell_type": "code",
   "execution_count": 1,
   "id": "7527b052-823d-48d9-9692-a83d9e5b8fa5",
   "metadata": {},
   "outputs": [
    {
     "name": "stdout",
     "output_type": "stream",
     "text": [
      "Original Array: [1 2 3 4 5]\n",
      "After Addition: [3 4 5 6 7]\n",
      "After Multiplication: [ 3  6  9 12 15]\n",
      "After Division: [0.5 1.  1.5 2.  2.5]\n"
     ]
    }
   ],
   "source": [
    "#QUES 1\n",
    "import numpy as np\n",
    "arr = np.array([1, 2, 3, 4, 5])\n",
    "\n",
    "# a) Addition of 2 to all elements\n",
    "arr_add = arr + 2\n",
    "\n",
    "# b) Multiply 3 with all elements\n",
    "arr_multiply = arr * 3\n",
    "\n",
    "# c) Divide all elements by 2\n",
    "arr_divide = arr / 2\n",
    "\n",
    "print(\"Original Array:\", arr)\n",
    "print(\"After Addition:\", arr_add)\n",
    "print(\"After Multiplication:\", arr_multiply)\n",
    "print(\"After Division:\", arr_divide)"
   ]
  },
  {
   "cell_type": "code",
   "execution_count": 2,
   "id": "9feb4896-12c0-4a0c-ad5d-d4256dc1d4f8",
   "metadata": {},
   "outputs": [
    {
     "name": "stdout",
     "output_type": "stream",
     "text": [
      "Reversed Array: [5 4 6 3 2 1]\n",
      "Most Frequent Value in x: 1 , Indices: [0 5 7 8]\n",
      "Most Frequent Value in y: 3 , Indices: [4 7 8 9]\n"
     ]
    }
   ],
   "source": [
    "#QUES 2\n",
    "arr = np.array([1, 2, 3, 6, 4, 5])\n",
    "arr_reversed = arr[::-1]\n",
    "\n",
    "x = np.array([1, 2, 3, 4, 5, 1, 2, 1, 1])\n",
    "most_freq_x = np.bincount(x).argmax()\n",
    "indices_x = np.where(x == most_freq_x)\n",
    "\n",
    "y = np.array([1, 1, 1, 2, 3, 4, 2, 3, 3, 3])\n",
    "most_freq_y = np.bincount(y).argmax()\n",
    "indices_y = np.where(y == most_freq_y)\n",
    "\n",
    "print(\"Reversed Array:\", arr_reversed)\n",
    "print(\"Most Frequent Value in x:\", most_freq_x, \", Indices:\", indices_x[0])\n",
    "print(\"Most Frequent Value in y:\", most_freq_y, \", Indices:\", indices_y[0])"
   ]
  },
  {
   "cell_type": "code",
   "execution_count": 3,
   "id": "fbdc99b1-cce2-4d8e-b061-0e0cb08e89f1",
   "metadata": {},
   "outputs": [
    {
     "name": "stdout",
     "output_type": "stream",
     "text": [
      "Element at (1st row, 2nd col): 20\n",
      "Element at (3rd row, 1st col): 70\n"
     ]
    }
   ],
   "source": [
    "#QUES 3\n",
    "arr_2d = np.array([[10, 20, 30], [40, 50, 60], [70, 80, 90]])\n",
    "\n",
    "element_a = arr_2d[0, 1]  # 1st row, 2nd column\n",
    "element_b = arr_2d[2, 0]  # 3rd row, 1st column\n",
    "\n",
    "print(\"Element at (1st row, 2nd col):\", element_a)\n",
    "print(\"Element at (3rd row, 1st col):\", element_b)"
   ]
  },
  {
   "cell_type": "code",
   "execution_count": 4,
   "id": "e08d9af3-9a8d-405a-9fd3-02b814dd2491",
   "metadata": {},
   "outputs": [
    {
     "name": "stdout",
     "output_type": "stream",
     "text": [
      "Dimensions: 1\n",
      "Shape: (25,)\n",
      "Total Elements: 25\n",
      "Data Type: float64\n",
      "Bytes Consumed: 200\n",
      "Reshaped Array:\n",
      " [[ 10.    13.75  17.5   21.25  25.  ]\n",
      " [ 28.75  32.5   36.25  40.    43.75]\n",
      " [ 47.5   51.25  55.    58.75  62.5 ]\n",
      " [ 66.25  70.    73.75  77.5   81.25]\n",
      " [ 85.    88.75  92.5   96.25 100.  ]]\n"
     ]
    }
   ],
   "source": [
    "#QUES 4\n",
    "your_name_array = np.linspace(10, 100, 25)\n",
    "\n",
    "print(\"Dimensions:\", your_name_array.ndim)\n",
    "print(\"Shape:\", your_name_array.shape)\n",
    "print(\"Total Elements:\", your_name_array.size)\n",
    "print(\"Data Type:\", your_name_array.dtype)\n",
    "print(\"Bytes Consumed:\", your_name_array.nbytes)\n",
    "\n",
    "reshaped_array = your_name_array.reshape(5, 5)\n",
    "print(\"Reshaped Array:\\n\", reshaped_array)"
   ]
  },
  {
   "cell_type": "code",
   "execution_count": 5,
   "id": "1452f9c9-cb5d-4c77-916c-3ed4a41bc8c0",
   "metadata": {},
   "outputs": [
    {
     "name": "stdout",
     "output_type": "stream",
     "text": [
      "Mean: 43.333333333333336\n",
      "Median: 37.5\n",
      "Max: 90\n",
      "Min: 10\n",
      "Unique Elements: [10 15 20 30 35 40 50 60 70 80 90]\n",
      "Reshaped Array:\n",
      " [[10 20 30]\n",
      " [40 50 60]\n",
      " [70 80 90]\n",
      " [15 20 35]]\n",
      "Resized Array:\n",
      " [[10 20 30]\n",
      " [40 50 60]]\n"
     ]
    }
   ],
   "source": [
    "#QUES 5\n",
    "ucs420_array = np.array([[10, 20, 30, 40],\n",
    "                         [50, 60, 70, 80],\n",
    "                         [90, 15, 20, 35]])\n",
    "\n",
    "mean_val = np.mean(ucs420_array)\n",
    "median_val = np.median(ucs420_array)\n",
    "max_val = np.max(ucs420_array)\n",
    "min_val = np.min(ucs420_array)\n",
    "unique_elements = np.unique(ucs420_array)\n",
    "\n",
    "reshaped_array = ucs420_array.reshape(4, 3)\n",
    "\n",
    "ucs420_resized = np.resize(ucs420_array, (2, 3))\n",
    "\n",
    "print(\"Mean:\", mean_val)\n",
    "print(\"Median:\", median_val)\n",
    "print(\"Max:\", max_val)\n",
    "print(\"Min:\", min_val)\n",
    "print(\"Unique Elements:\", unique_elements)\n",
    "print(\"Reshaped Array:\\n\", reshaped_array)\n",
    "print(\"Resized Array:\\n\", ucs420_resized)"
   ]
  }
 ],
 "metadata": {
  "kernelspec": {
   "display_name": "Python 3 (ipykernel)",
   "language": "python",
   "name": "python3"
  },
  "language_info": {
   "codemirror_mode": {
    "name": "ipython",
    "version": 3
   },
   "file_extension": ".py",
   "mimetype": "text/x-python",
   "name": "python",
   "nbconvert_exporter": "python",
   "pygments_lexer": "ipython3",
   "version": "3.12.7"
  }
 },
 "nbformat": 4,
 "nbformat_minor": 5
}
